{
 "cells": [
  {
   "cell_type": "code",
   "execution_count": null,
   "metadata": {},
   "outputs": [],
   "source": [
    "import h2o\n",
    "h2o.init()\n",
    "from h2o.estimators.gbm import H2OGradientBoostingEstimator\n",
    "def Run(Train_path, Test_path):\n",
    "\n",
    "    Train = h2o.import_file(Train_path)\n",
    "    Test = h2o.import_file(Test_path)\n",
    "\n",
    "    Train = Train.na_omit()\n",
    "    Test = Test.na_omit()\n",
    "\n",
    "    predictors = Train.columns[0:10]\n",
    "    response = Train.columns[11]\n",
    "\n",
    "    model = H2OGradientBoostingEstimator(\n",
    "                            learn_rate = 0.05,\n",
    "                            balance_classes=True, \n",
    "                            ntrees = 15000,\n",
    "                            stopping_rounds = 10,\n",
    "                            stopping_tolerance = 0,\n",
    "                            seed=1234)\n",
    "    model.train(x=predictors,y=response,\n",
    "                 training_frame=Train, \n",
    "                 validation_frame=Test\n",
    "                )\n",
    "\n",
    "    import numpy as np\n",
    "    from sklearn.metrics import mean_squared_error\n",
    "    from math import sqrt\n",
    "    from sklearn.metrics import r2_score\n",
    "\n",
    "    print(model)\n",
    "    #print(model.varimp(True))\n",
    "\n",
    "    perf = model.model_performance(Test)\n",
    "    print('RMSE: ' ,sqrt(perf.mse()))\n",
    "    print('R2: ',perf.r2())"
   ]
  },
  {
   "cell_type": "code",
   "execution_count": null,
   "metadata": {},
   "outputs": [],
   "source": [
    "data_path= 'C:\\\\data\\\\New_data\\\\'\n",
    "Run(data_path+'NO2_Train.csv',data_path+'NO2_Test.csv')"
   ]
  },
  {
   "cell_type": "code",
   "execution_count": null,
   "metadata": {},
   "outputs": [],
   "source": [
    "data_path= 'C:\\\\data\\\\New_data\\\\'\n",
    "Run(data_path+'CO_Train.csv',data_path+'CO_Test.csv')"
   ]
  },
  {
   "cell_type": "code",
   "execution_count": null,
   "metadata": {},
   "outputs": [],
   "source": [
    "data_path= 'C:\\\\data\\\\New_data\\\\'\n",
    "Run(data_path+'O3_Train.csv',data_path+'O3_Test.csv')"
   ]
  },
  {
   "cell_type": "code",
   "execution_count": null,
   "metadata": {},
   "outputs": [],
   "source": [
    "data_path= 'C:\\\\data\\\\New_data\\\\'\n",
    "Run(data_path+'PM2_5_Train.csv',data_path+'PM2_5_Test.csv')"
   ]
  },
  {
   "cell_type": "code",
   "execution_count": null,
   "metadata": {},
   "outputs": [],
   "source": [
    "data_path= 'C:\\\\data\\\\New_data\\\\'\n",
    "Run(data_path+'SO2_Train.csv',data_path+'SO2_Test.csv')"
   ]
  },
  {
   "cell_type": "code",
   "execution_count": null,
   "metadata": {},
   "outputs": [],
   "source": []
  }
 ],
 "metadata": {
  "kernelspec": {
   "display_name": "Python 3 (ipykernel)",
   "language": "python",
   "name": "python3"
  },
  "language_info": {
   "codemirror_mode": {
    "name": "ipython",
    "version": 3
   },
   "file_extension": ".py",
   "mimetype": "text/x-python",
   "name": "python",
   "nbconvert_exporter": "python",
   "pygments_lexer": "ipython3",
   "version": "3.8.13"
  }
 },
 "nbformat": 4,
 "nbformat_minor": 4
}
